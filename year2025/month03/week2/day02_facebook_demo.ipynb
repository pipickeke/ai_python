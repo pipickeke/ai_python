{
 "cells": [
  {
   "cell_type": "code",
   "execution_count": 3,
   "id": "4f7e07ca-3ef9-4b6e-980b-b202255dd1f9",
   "metadata": {},
   "outputs": [],
   "source": [
    "import pandas as pd"
   ]
  },
  {
   "cell_type": "code",
   "execution_count": 4,
   "id": "6cd1eef9-9d55-46b3-94b2-fb6cdc520f40",
   "metadata": {},
   "outputs": [],
   "source": [
    "data = pd.read_csv(\"D:\\\\P\\\\python_机器学习\\\\数据集\\\\facebook-v-predicting-check-ins\\\\train\\\\train.csv\")"
   ]
  },
  {
   "cell_type": "code",
   "execution_count": 5,
   "id": "64a6bd5d-326b-4d41-ad1e-36e0924e784c",
   "metadata": {},
   "outputs": [
    {
     "data": {
      "text/html": [
       "<div>\n",
       "<style scoped>\n",
       "    .dataframe tbody tr th:only-of-type {\n",
       "        vertical-align: middle;\n",
       "    }\n",
       "\n",
       "    .dataframe tbody tr th {\n",
       "        vertical-align: top;\n",
       "    }\n",
       "\n",
       "    .dataframe thead th {\n",
       "        text-align: right;\n",
       "    }\n",
       "</style>\n",
       "<table border=\"1\" class=\"dataframe\">\n",
       "  <thead>\n",
       "    <tr style=\"text-align: right;\">\n",
       "      <th></th>\n",
       "      <th>row_id</th>\n",
       "      <th>x</th>\n",
       "      <th>y</th>\n",
       "      <th>accuracy</th>\n",
       "      <th>time</th>\n",
       "      <th>place_id</th>\n",
       "    </tr>\n",
       "  </thead>\n",
       "  <tbody>\n",
       "    <tr>\n",
       "      <th>0</th>\n",
       "      <td>0</td>\n",
       "      <td>0.7941</td>\n",
       "      <td>9.0809</td>\n",
       "      <td>54</td>\n",
       "      <td>470702</td>\n",
       "      <td>8523065625</td>\n",
       "    </tr>\n",
       "    <tr>\n",
       "      <th>1</th>\n",
       "      <td>1</td>\n",
       "      <td>5.9567</td>\n",
       "      <td>4.7968</td>\n",
       "      <td>13</td>\n",
       "      <td>186555</td>\n",
       "      <td>1757726713</td>\n",
       "    </tr>\n",
       "    <tr>\n",
       "      <th>2</th>\n",
       "      <td>2</td>\n",
       "      <td>8.3078</td>\n",
       "      <td>7.0407</td>\n",
       "      <td>74</td>\n",
       "      <td>322648</td>\n",
       "      <td>1137537235</td>\n",
       "    </tr>\n",
       "    <tr>\n",
       "      <th>3</th>\n",
       "      <td>3</td>\n",
       "      <td>7.3665</td>\n",
       "      <td>2.5165</td>\n",
       "      <td>65</td>\n",
       "      <td>704587</td>\n",
       "      <td>6567393236</td>\n",
       "    </tr>\n",
       "    <tr>\n",
       "      <th>4</th>\n",
       "      <td>4</td>\n",
       "      <td>4.0961</td>\n",
       "      <td>1.1307</td>\n",
       "      <td>31</td>\n",
       "      <td>472130</td>\n",
       "      <td>7440663949</td>\n",
       "    </tr>\n",
       "  </tbody>\n",
       "</table>\n",
       "</div>"
      ],
      "text/plain": [
       "   row_id       x       y  accuracy    time    place_id\n",
       "0       0  0.7941  9.0809        54  470702  8523065625\n",
       "1       1  5.9567  4.7968        13  186555  1757726713\n",
       "2       2  8.3078  7.0407        74  322648  1137537235\n",
       "3       3  7.3665  2.5165        65  704587  6567393236\n",
       "4       4  4.0961  1.1307        31  472130  7440663949"
      ]
     },
     "execution_count": 5,
     "metadata": {},
     "output_type": "execute_result"
    }
   ],
   "source": [
    "data.head()"
   ]
  },
  {
   "cell_type": "code",
   "execution_count": 6,
   "id": "baac85a1-dadf-4eea-accc-3c36bd0f7e94",
   "metadata": {},
   "outputs": [],
   "source": [
    "data = data.query(\"x < 2.5 & x > 2 & y < 1.5 & y > 1.0\")"
   ]
  },
  {
   "cell_type": "code",
   "execution_count": 7,
   "id": "955b21d0-afae-4cce-8070-d6aae5dc4d7c",
   "metadata": {},
   "outputs": [
    {
     "data": {
      "text/html": [
       "<div>\n",
       "<style scoped>\n",
       "    .dataframe tbody tr th:only-of-type {\n",
       "        vertical-align: middle;\n",
       "    }\n",
       "\n",
       "    .dataframe tbody tr th {\n",
       "        vertical-align: top;\n",
       "    }\n",
       "\n",
       "    .dataframe thead th {\n",
       "        text-align: right;\n",
       "    }\n",
       "</style>\n",
       "<table border=\"1\" class=\"dataframe\">\n",
       "  <thead>\n",
       "    <tr style=\"text-align: right;\">\n",
       "      <th></th>\n",
       "      <th>row_id</th>\n",
       "      <th>x</th>\n",
       "      <th>y</th>\n",
       "      <th>accuracy</th>\n",
       "      <th>time</th>\n",
       "      <th>place_id</th>\n",
       "    </tr>\n",
       "  </thead>\n",
       "  <tbody>\n",
       "    <tr>\n",
       "      <th>112</th>\n",
       "      <td>112</td>\n",
       "      <td>2.2360</td>\n",
       "      <td>1.3655</td>\n",
       "      <td>66</td>\n",
       "      <td>623174</td>\n",
       "      <td>7663031065</td>\n",
       "    </tr>\n",
       "    <tr>\n",
       "      <th>180</th>\n",
       "      <td>180</td>\n",
       "      <td>2.2003</td>\n",
       "      <td>1.2541</td>\n",
       "      <td>65</td>\n",
       "      <td>610195</td>\n",
       "      <td>2358558474</td>\n",
       "    </tr>\n",
       "    <tr>\n",
       "      <th>367</th>\n",
       "      <td>367</td>\n",
       "      <td>2.4108</td>\n",
       "      <td>1.3213</td>\n",
       "      <td>74</td>\n",
       "      <td>579667</td>\n",
       "      <td>6644108708</td>\n",
       "    </tr>\n",
       "    <tr>\n",
       "      <th>874</th>\n",
       "      <td>874</td>\n",
       "      <td>2.0822</td>\n",
       "      <td>1.1973</td>\n",
       "      <td>320</td>\n",
       "      <td>143566</td>\n",
       "      <td>3229876087</td>\n",
       "    </tr>\n",
       "    <tr>\n",
       "      <th>1022</th>\n",
       "      <td>1022</td>\n",
       "      <td>2.0160</td>\n",
       "      <td>1.1659</td>\n",
       "      <td>65</td>\n",
       "      <td>207993</td>\n",
       "      <td>3244363975</td>\n",
       "    </tr>\n",
       "  </tbody>\n",
       "</table>\n",
       "</div>"
      ],
      "text/plain": [
       "      row_id       x       y  accuracy    time    place_id\n",
       "112      112  2.2360  1.3655        66  623174  7663031065\n",
       "180      180  2.2003  1.2541        65  610195  2358558474\n",
       "367      367  2.4108  1.3213        74  579667  6644108708\n",
       "874      874  2.0822  1.1973       320  143566  3229876087\n",
       "1022    1022  2.0160  1.1659        65  207993  3244363975"
      ]
     },
     "execution_count": 7,
     "metadata": {},
     "output_type": "execute_result"
    }
   ],
   "source": [
    "data.head()"
   ]
  },
  {
   "cell_type": "code",
   "execution_count": 8,
   "id": "e4e1e4e3-0b05-4fa8-b0af-3f76bea4b1c4",
   "metadata": {},
   "outputs": [],
   "source": [
    "time_value = pd.to_datetime(data['time'], unit=\"s\")\n",
    "date = pd.DatetimeIndex(time_value)"
   ]
  },
  {
   "cell_type": "code",
   "execution_count": 9,
   "id": "006eb5ac-79ea-429e-9d53-c176e6f2725e",
   "metadata": {},
   "outputs": [
    {
     "data": {
      "text/plain": [
       "DatetimeIndex(['1970-01-08 05:06:14', '1970-01-08 01:29:55',\n",
       "               '1970-01-07 17:01:07', '1970-01-02 15:52:46',\n",
       "               '1970-01-03 09:46:33', '1970-01-06 19:49:38',\n",
       "               '1970-01-06 13:33:24', '1970-01-02 22:49:55',\n",
       "               '1970-01-04 14:30:10', '1970-01-07 16:57:44',\n",
       "               ...\n",
       "               '1970-01-02 09:24:50', '1970-01-01 10:29:34',\n",
       "               '1970-01-09 11:38:46', '1970-01-02 03:42:14',\n",
       "               '1970-01-04 22:02:44', '1970-01-09 08:31:25',\n",
       "               '1970-01-07 12:29:49', '1970-01-09 20:46:26',\n",
       "               '1970-01-02 18:11:58', '1970-01-01 22:06:09'],\n",
       "              dtype='datetime64[ns]', name='time', length=83197, freq=None)"
      ]
     },
     "execution_count": 9,
     "metadata": {},
     "output_type": "execute_result"
    }
   ],
   "source": [
    "date"
   ]
  },
  {
   "cell_type": "code",
   "execution_count": 10,
   "id": "1f82cee7-7a80-4cec-9aaf-40957758bb5e",
   "metadata": {},
   "outputs": [],
   "source": [
    "data[\"day\"] = date.day\n",
    "data[\"weekday\"] = date.weekday\n",
    "data[\"hour\"] = date.hour"
   ]
  },
  {
   "cell_type": "code",
   "execution_count": 12,
   "id": "38295510-ac3f-480d-b380-452476963ab7",
   "metadata": {},
   "outputs": [
    {
     "data": {
      "text/html": [
       "<div>\n",
       "<style scoped>\n",
       "    .dataframe tbody tr th:only-of-type {\n",
       "        vertical-align: middle;\n",
       "    }\n",
       "\n",
       "    .dataframe tbody tr th {\n",
       "        vertical-align: top;\n",
       "    }\n",
       "\n",
       "    .dataframe thead th {\n",
       "        text-align: right;\n",
       "    }\n",
       "</style>\n",
       "<table border=\"1\" class=\"dataframe\">\n",
       "  <thead>\n",
       "    <tr style=\"text-align: right;\">\n",
       "      <th></th>\n",
       "      <th>row_id</th>\n",
       "      <th>x</th>\n",
       "      <th>y</th>\n",
       "      <th>accuracy</th>\n",
       "      <th>time</th>\n",
       "      <th>place_id</th>\n",
       "      <th>day</th>\n",
       "      <th>weekday</th>\n",
       "      <th>hour</th>\n",
       "    </tr>\n",
       "  </thead>\n",
       "  <tbody>\n",
       "    <tr>\n",
       "      <th>112</th>\n",
       "      <td>112</td>\n",
       "      <td>2.2360</td>\n",
       "      <td>1.3655</td>\n",
       "      <td>66</td>\n",
       "      <td>623174</td>\n",
       "      <td>7663031065</td>\n",
       "      <td>8</td>\n",
       "      <td>3</td>\n",
       "      <td>5</td>\n",
       "    </tr>\n",
       "    <tr>\n",
       "      <th>180</th>\n",
       "      <td>180</td>\n",
       "      <td>2.2003</td>\n",
       "      <td>1.2541</td>\n",
       "      <td>65</td>\n",
       "      <td>610195</td>\n",
       "      <td>2358558474</td>\n",
       "      <td>8</td>\n",
       "      <td>3</td>\n",
       "      <td>1</td>\n",
       "    </tr>\n",
       "    <tr>\n",
       "      <th>367</th>\n",
       "      <td>367</td>\n",
       "      <td>2.4108</td>\n",
       "      <td>1.3213</td>\n",
       "      <td>74</td>\n",
       "      <td>579667</td>\n",
       "      <td>6644108708</td>\n",
       "      <td>7</td>\n",
       "      <td>2</td>\n",
       "      <td>17</td>\n",
       "    </tr>\n",
       "    <tr>\n",
       "      <th>874</th>\n",
       "      <td>874</td>\n",
       "      <td>2.0822</td>\n",
       "      <td>1.1973</td>\n",
       "      <td>320</td>\n",
       "      <td>143566</td>\n",
       "      <td>3229876087</td>\n",
       "      <td>2</td>\n",
       "      <td>4</td>\n",
       "      <td>15</td>\n",
       "    </tr>\n",
       "    <tr>\n",
       "      <th>1022</th>\n",
       "      <td>1022</td>\n",
       "      <td>2.0160</td>\n",
       "      <td>1.1659</td>\n",
       "      <td>65</td>\n",
       "      <td>207993</td>\n",
       "      <td>3244363975</td>\n",
       "      <td>3</td>\n",
       "      <td>5</td>\n",
       "      <td>9</td>\n",
       "    </tr>\n",
       "  </tbody>\n",
       "</table>\n",
       "</div>"
      ],
      "text/plain": [
       "      row_id       x       y  accuracy    time    place_id  day  weekday  hour\n",
       "112      112  2.2360  1.3655        66  623174  7663031065    8        3     5\n",
       "180      180  2.2003  1.2541        65  610195  2358558474    8        3     1\n",
       "367      367  2.4108  1.3213        74  579667  6644108708    7        2    17\n",
       "874      874  2.0822  1.1973       320  143566  3229876087    2        4    15\n",
       "1022    1022  2.0160  1.1659        65  207993  3244363975    3        5     9"
      ]
     },
     "execution_count": 12,
     "metadata": {},
     "output_type": "execute_result"
    }
   ],
   "source": [
    "data.head()"
   ]
  },
  {
   "cell_type": "code",
   "execution_count": 13,
   "id": "3ed2a3f2-8765-42db-b58f-14f536edbb5e",
   "metadata": {},
   "outputs": [],
   "source": [
    "#签到次数\n",
    "place_count = data.groupby(\"place_id\").count()[\"row_id\"]"
   ]
  },
  {
   "cell_type": "code",
   "execution_count": 14,
   "id": "79f166fd-b55e-41e4-9603-37c3688bc8f7",
   "metadata": {},
   "outputs": [
    {
     "data": {
      "text/plain": [
       "place_id\n",
       "1014605271     28\n",
       "1015645743      4\n",
       "1017236154     31\n",
       "1024951487      5\n",
       "1028119817      4\n",
       "             ... \n",
       "9936666116    140\n",
       "9954155328      8\n",
       "9980625005     16\n",
       "9994257798     25\n",
       "9996671132     18\n",
       "Name: row_id, Length: 950, dtype: int64"
      ]
     },
     "execution_count": 14,
     "metadata": {},
     "output_type": "execute_result"
    }
   ],
   "source": [
    "place_count[place_count > 3]"
   ]
  },
  {
   "cell_type": "code",
   "execution_count": 15,
   "id": "632ac3ec-1f9a-4a51-a9e1-c613a15b33c5",
   "metadata": {},
   "outputs": [],
   "source": [
    "data_final = data[data[\"place_id\"].isin(place_count[place_count>3].index.values)]"
   ]
  },
  {
   "cell_type": "code",
   "execution_count": 16,
   "id": "079da500-9896-4821-9606-6d86187cdaa2",
   "metadata": {},
   "outputs": [
    {
     "data": {
      "text/html": [
       "<div>\n",
       "<style scoped>\n",
       "    .dataframe tbody tr th:only-of-type {\n",
       "        vertical-align: middle;\n",
       "    }\n",
       "\n",
       "    .dataframe tbody tr th {\n",
       "        vertical-align: top;\n",
       "    }\n",
       "\n",
       "    .dataframe thead th {\n",
       "        text-align: right;\n",
       "    }\n",
       "</style>\n",
       "<table border=\"1\" class=\"dataframe\">\n",
       "  <thead>\n",
       "    <tr style=\"text-align: right;\">\n",
       "      <th></th>\n",
       "      <th>row_id</th>\n",
       "      <th>x</th>\n",
       "      <th>y</th>\n",
       "      <th>accuracy</th>\n",
       "      <th>time</th>\n",
       "      <th>place_id</th>\n",
       "      <th>day</th>\n",
       "      <th>weekday</th>\n",
       "      <th>hour</th>\n",
       "    </tr>\n",
       "  </thead>\n",
       "  <tbody>\n",
       "    <tr>\n",
       "      <th>112</th>\n",
       "      <td>112</td>\n",
       "      <td>2.2360</td>\n",
       "      <td>1.3655</td>\n",
       "      <td>66</td>\n",
       "      <td>623174</td>\n",
       "      <td>7663031065</td>\n",
       "      <td>8</td>\n",
       "      <td>3</td>\n",
       "      <td>5</td>\n",
       "    </tr>\n",
       "    <tr>\n",
       "      <th>367</th>\n",
       "      <td>367</td>\n",
       "      <td>2.4108</td>\n",
       "      <td>1.3213</td>\n",
       "      <td>74</td>\n",
       "      <td>579667</td>\n",
       "      <td>6644108708</td>\n",
       "      <td>7</td>\n",
       "      <td>2</td>\n",
       "      <td>17</td>\n",
       "    </tr>\n",
       "    <tr>\n",
       "      <th>874</th>\n",
       "      <td>874</td>\n",
       "      <td>2.0822</td>\n",
       "      <td>1.1973</td>\n",
       "      <td>320</td>\n",
       "      <td>143566</td>\n",
       "      <td>3229876087</td>\n",
       "      <td>2</td>\n",
       "      <td>4</td>\n",
       "      <td>15</td>\n",
       "    </tr>\n",
       "    <tr>\n",
       "      <th>1022</th>\n",
       "      <td>1022</td>\n",
       "      <td>2.0160</td>\n",
       "      <td>1.1659</td>\n",
       "      <td>65</td>\n",
       "      <td>207993</td>\n",
       "      <td>3244363975</td>\n",
       "      <td>3</td>\n",
       "      <td>5</td>\n",
       "      <td>9</td>\n",
       "    </tr>\n",
       "    <tr>\n",
       "      <th>1045</th>\n",
       "      <td>1045</td>\n",
       "      <td>2.3859</td>\n",
       "      <td>1.1660</td>\n",
       "      <td>498</td>\n",
       "      <td>503378</td>\n",
       "      <td>6438240873</td>\n",
       "      <td>6</td>\n",
       "      <td>1</td>\n",
       "      <td>19</td>\n",
       "    </tr>\n",
       "  </tbody>\n",
       "</table>\n",
       "</div>"
      ],
      "text/plain": [
       "      row_id       x       y  accuracy    time    place_id  day  weekday  hour\n",
       "112      112  2.2360  1.3655        66  623174  7663031065    8        3     5\n",
       "367      367  2.4108  1.3213        74  579667  6644108708    7        2    17\n",
       "874      874  2.0822  1.1973       320  143566  3229876087    2        4    15\n",
       "1022    1022  2.0160  1.1659        65  207993  3244363975    3        5     9\n",
       "1045    1045  2.3859  1.1660       498  503378  6438240873    6        1    19"
      ]
     },
     "execution_count": 16,
     "metadata": {},
     "output_type": "execute_result"
    }
   ],
   "source": [
    "data_final.head()"
   ]
  },
  {
   "cell_type": "code",
   "execution_count": 17,
   "id": "51ad1311-0d72-4115-8ffd-7ff70bac4b94",
   "metadata": {},
   "outputs": [],
   "source": [
    "# 筛选特征值和目标值\n",
    "x = data_final[[\"x\",\"y\",\"accuracy\",\"day\",\"weekday\",\"hour\"]]\n",
    "y = data_final[\"place_id\"]"
   ]
  },
  {
   "cell_type": "code",
   "execution_count": 18,
   "id": "f031977a-611d-4ba8-9f3b-a49eadcf189a",
   "metadata": {},
   "outputs": [
    {
     "data": {
      "text/html": [
       "<div>\n",
       "<style scoped>\n",
       "    .dataframe tbody tr th:only-of-type {\n",
       "        vertical-align: middle;\n",
       "    }\n",
       "\n",
       "    .dataframe tbody tr th {\n",
       "        vertical-align: top;\n",
       "    }\n",
       "\n",
       "    .dataframe thead th {\n",
       "        text-align: right;\n",
       "    }\n",
       "</style>\n",
       "<table border=\"1\" class=\"dataframe\">\n",
       "  <thead>\n",
       "    <tr style=\"text-align: right;\">\n",
       "      <th></th>\n",
       "      <th>x</th>\n",
       "      <th>y</th>\n",
       "      <th>accuracy</th>\n",
       "      <th>day</th>\n",
       "      <th>weekday</th>\n",
       "      <th>hour</th>\n",
       "    </tr>\n",
       "  </thead>\n",
       "  <tbody>\n",
       "    <tr>\n",
       "      <th>112</th>\n",
       "      <td>2.2360</td>\n",
       "      <td>1.3655</td>\n",
       "      <td>66</td>\n",
       "      <td>8</td>\n",
       "      <td>3</td>\n",
       "      <td>5</td>\n",
       "    </tr>\n",
       "    <tr>\n",
       "      <th>367</th>\n",
       "      <td>2.4108</td>\n",
       "      <td>1.3213</td>\n",
       "      <td>74</td>\n",
       "      <td>7</td>\n",
       "      <td>2</td>\n",
       "      <td>17</td>\n",
       "    </tr>\n",
       "    <tr>\n",
       "      <th>874</th>\n",
       "      <td>2.0822</td>\n",
       "      <td>1.1973</td>\n",
       "      <td>320</td>\n",
       "      <td>2</td>\n",
       "      <td>4</td>\n",
       "      <td>15</td>\n",
       "    </tr>\n",
       "    <tr>\n",
       "      <th>1022</th>\n",
       "      <td>2.0160</td>\n",
       "      <td>1.1659</td>\n",
       "      <td>65</td>\n",
       "      <td>3</td>\n",
       "      <td>5</td>\n",
       "      <td>9</td>\n",
       "    </tr>\n",
       "    <tr>\n",
       "      <th>1045</th>\n",
       "      <td>2.3859</td>\n",
       "      <td>1.1660</td>\n",
       "      <td>498</td>\n",
       "      <td>6</td>\n",
       "      <td>1</td>\n",
       "      <td>19</td>\n",
       "    </tr>\n",
       "  </tbody>\n",
       "</table>\n",
       "</div>"
      ],
      "text/plain": [
       "           x       y  accuracy  day  weekday  hour\n",
       "112   2.2360  1.3655        66    8        3     5\n",
       "367   2.4108  1.3213        74    7        2    17\n",
       "874   2.0822  1.1973       320    2        4    15\n",
       "1022  2.0160  1.1659        65    3        5     9\n",
       "1045  2.3859  1.1660       498    6        1    19"
      ]
     },
     "execution_count": 18,
     "metadata": {},
     "output_type": "execute_result"
    }
   ],
   "source": [
    "x.head()"
   ]
  },
  {
   "cell_type": "code",
   "execution_count": 19,
   "id": "f526e1a2-b021-45d3-83cb-2228d6a42ab6",
   "metadata": {},
   "outputs": [
    {
     "data": {
      "text/plain": [
       "112     7663031065\n",
       "367     6644108708\n",
       "874     3229876087\n",
       "1022    3244363975\n",
       "1045    6438240873\n",
       "Name: place_id, dtype: int64"
      ]
     },
     "execution_count": 19,
     "metadata": {},
     "output_type": "execute_result"
    }
   ],
   "source": [
    "y.head()"
   ]
  },
  {
   "cell_type": "code",
   "execution_count": 20,
   "id": "676fcca8-a3b4-4cb0-9637-3ae4443007e2",
   "metadata": {},
   "outputs": [],
   "source": [
    "# 数据集划分\n",
    "from sklearn.model_selection import train_test_split"
   ]
  },
  {
   "cell_type": "code",
   "execution_count": 21,
   "id": "9bcaf792-794a-4de3-865c-cddf55fd2838",
   "metadata": {},
   "outputs": [],
   "source": [
    "x_train, x_test, y_train, y_test = train_test_split(x,y)"
   ]
  },
  {
   "cell_type": "code",
   "execution_count": 22,
   "id": "16df923f-5edb-46a9-97ee-2af0bbcb36a2",
   "metadata": {},
   "outputs": [],
   "source": [
    "from sklearn.preprocessing import StandardScaler\n",
    "from sklearn.neighbors import KNeighborsClassifier\n",
    "from sklearn.model_selection import GridSearchCV"
   ]
  },
  {
   "cell_type": "code",
   "execution_count": 24,
   "id": "3ed43112-1620-403d-8b3e-1d9c3d8b1db6",
   "metadata": {},
   "outputs": [
    {
     "name": "stderr",
     "output_type": "stream",
     "text": [
      "D:\\P\\python\\Lib\\site-packages\\sklearn\\model_selection\\_split.py:737: UserWarning: The least populated class in y has only 1 members, which is less than n_splits=3.\n",
      "  warnings.warn(\n"
     ]
    },
    {
     "name": "stdout",
     "output_type": "stream",
     "text": [
      "预测值y_predict: \n",
      " [1327075245 2209293971 8655245424 ... 8790355618 7240847236 4020469575]\n",
      "比对真实值和预测值:  5457777     False\n",
      "951490       True\n",
      "28452705    False\n",
      "23107804     True\n",
      "8807897     False\n",
      "            ...  \n",
      "26976112    False\n",
      "3305178      True\n",
      "5423175      True\n",
      "23980556     True\n",
      "20054086    False\n",
      "Name: place_id, Length: 20228, dtype: bool\n"
     ]
    }
   ],
   "source": [
    "# 标准化\n",
    "transfer = StandardScaler()\n",
    "x_train = transfer.fit_transform(x_train)\n",
    "x_test = transfer.transform(x_test)\n",
    "\n",
    "#KNN算法\n",
    "estimator = KNeighborsClassifier()\n",
    "\n",
    "param_dict = {\"n_neighbors\": [1,3,5,7,9]}\n",
    "estimator = GridSearchCV(estimator, param_grid=param_dict, cv=3)\n",
    "estimator.fit(x_train, y_train)\n",
    "\n",
    "y_predict = estimator.predict(x_test)\n",
    "print(\"预测值y_predict: \\n\", y_predict)\n",
    "print(\"比对真实值和预测值: \", y_predict == y_test)"
   ]
  },
  {
   "cell_type": "code",
   "execution_count": 27,
   "id": "89ec2281-bb28-4035-bbed-13cbd64b99c9",
   "metadata": {},
   "outputs": [
    {
     "name": "stdout",
     "output_type": "stream",
     "text": [
      "准确率：\n",
      " 0.35900731659086416\n",
      "最佳参数：\n",
      " {'n_neighbors': 1}\n",
      "最佳结果：\n",
      " 0.3386176684688766\n",
      "最佳估计器：\n",
      " KNeighborsClassifier(n_neighbors=1)\n",
      "交叉验证结果: \n",
      " {'mean_fit_time': array([0.07362278, 0.06920417, 0.07048416, 0.07384793, 0.07331689]), 'std_fit_time': array([0.00516214, 0.00236861, 0.00247204, 0.00337788, 0.00184414]), 'mean_score_time': array([0.53900806, 0.63622069, 0.70047331, 0.74339771, 0.8008194 ]), 'std_score_time': array([0.01507732, 0.02606975, 0.00624347, 0.02358544, 0.00847205]), 'param_n_neighbors': masked_array(data=[1, 3, 5, 7, 9],\n",
      "             mask=[False, False, False, False, False],\n",
      "       fill_value='?',\n",
      "            dtype=object), 'params': [{'n_neighbors': 1}, {'n_neighbors': 3}, {'n_neighbors': 5}, {'n_neighbors': 7}, {'n_neighbors': 9}], 'split0_test_score': array([0.34125964, 0.32835673, 0.33834289, 0.33745304, 0.33414079]), 'split1_test_score': array([0.33712365, 0.32031443, 0.33608543, 0.3382113 , 0.33717309]), 'split2_test_score': array([0.33746972, 0.31947397, 0.33064715, 0.33079547, 0.32852128]), 'mean_test_score': array([0.33861767, 0.32271504, 0.33502516, 0.3354866 , 0.33327839]), 'std_test_score': array([0.00187349, 0.004004  , 0.00322999, 0.00333154, 0.00358434]), 'rank_test_score': array([1, 5, 3, 2, 4])}\n"
     ]
    }
   ],
   "source": [
    "print(\"准确率：\\n\", estimator.score(x_test, y_test))\n",
    "print(\"最佳参数：\\n\", estimator.best_params_)\n",
    "print(\"最佳结果：\\n\", estimator.best_score_)\n",
    "print(\"最佳估计器：\\n\", estimator.best_estimator_)\n",
    "print(\"交叉验证结果: \\n\", estimator.cv_results_)"
   ]
  },
  {
   "cell_type": "code",
   "execution_count": null,
   "id": "ac38076f-6083-4f2c-b3c3-0cf0ae932674",
   "metadata": {},
   "outputs": [],
   "source": []
  }
 ],
 "metadata": {
  "kernelspec": {
   "display_name": "Python 3 (ipykernel)",
   "language": "python",
   "name": "python3"
  },
  "language_info": {
   "codemirror_mode": {
    "name": "ipython",
    "version": 3
   },
   "file_extension": ".py",
   "mimetype": "text/x-python",
   "name": "python",
   "nbconvert_exporter": "python",
   "pygments_lexer": "ipython3",
   "version": "3.8.10"
  }
 },
 "nbformat": 4,
 "nbformat_minor": 5
}
